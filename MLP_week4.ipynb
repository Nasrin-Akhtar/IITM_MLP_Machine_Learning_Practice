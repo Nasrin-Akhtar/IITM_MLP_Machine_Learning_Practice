{
  "nbformat": 4,
  "nbformat_minor": 0,
  "metadata": {
    "colab": {
      "provenance": [],
      "authorship_tag": "ABX9TyO2qPQNhp+3h4GSN7gmODnM",
      "include_colab_link": true
    },
    "kernelspec": {
      "name": "python3",
      "display_name": "Python 3"
    },
    "language_info": {
      "name": "python"
    }
  },
  "cells": [
    {
      "cell_type": "markdown",
      "metadata": {
        "id": "view-in-github",
        "colab_type": "text"
      },
      "source": [
        "<a href=\"https://colab.research.google.com/github/Nasrin-Akhtar/IITM_MLP_Machine_Learning_Practice/blob/main/MLP_week4.ipynb\" target=\"_parent\"><img src=\"https://colab.research.google.com/assets/colab-badge.svg\" alt=\"Open In Colab\"/></a>"
      ]
    },
    {
      "cell_type": "markdown",
      "source": [
        "If we use StandardScaler for preprocessing and LinearRegression for fitting the model with training set obtained from following code snippet:\n",
        "X_train,X_test,y_train,y_test= train_test_split(X,y, test_size=0.2, shuffle=False, random_state=0)\n",
        "Assume that (X,y) is the california housing dataset.\n",
        "What is the R squared value for predictions obtained using test set features?"
      ],
      "metadata": {
        "id": "vDA9HE0iJmdj"
      }
    },
    {
      "cell_type": "code",
      "source": [
        "from sklearn.datasets import fetch_california_housing\n",
        "from sklearn.model_selection import train_test_split\n",
        "from sklearn.preprocessing import StandardScaler\n",
        "from sklearn.linear_model import LinearRegression\n",
        "from sklearn.metrics import r2_score\n",
        "from sklearn.metrics import mean_squared_error\n",
        "import numpy as np\n"
      ],
      "metadata": {
        "id": "FXtXyuj_Jthn"
      },
      "execution_count": 26,
      "outputs": []
    },
    {
      "cell_type": "code",
      "source": [
        "data=fetch_california_housing()\n",
        "X, y= data.data, data.target\n",
        "X_train, X_test, y_train, y_test = train_test_split(X,y, test_size=0.2, shuffle= False, random_state=0)\n",
        "scaler= StandardScaler()\n",
        "X_train_scaled= scaler.fit_transform(X_train)\n",
        "X_test_scaled= scaler.transform(X_test)\n"
      ],
      "metadata": {
        "id": "HeDiCu9TLHut"
      },
      "execution_count": 27,
      "outputs": []
    },
    {
      "cell_type": "code",
      "source": [
        "model= LinearRegression()\n",
        "model.fit(X_train_scaled,y_train)\n",
        "y_pred= model.predict(X_test_scaled)\n",
        "r_squared= r2_score(y_test, y_pred)\n",
        "r_squared"
      ],
      "metadata": {
        "colab": {
          "base_uri": "https://localhost:8080/"
        },
        "id": "MIq8cH-_MVRk",
        "outputId": "06dafb01-9add-4137-82ad-17e4435e04ba"
      },
      "execution_count": 28,
      "outputs": [
        {
          "output_type": "execute_result",
          "data": {
            "text/plain": [
              "0.6605140591531986"
            ]
          },
          "metadata": {},
          "execution_count": 28
        }
      ]
    },
    {
      "cell_type": "markdown",
      "source": [
        "If we use StandardScaler for preprocessing and LinearRegression for fitting the model, what is the root mean squared error value for predictions obtained using test set features?"
      ],
      "metadata": {
        "id": "UHrAm8yAdscF"
      }
    },
    {
      "cell_type": "code",
      "source": [
        "rmse=np.sqrt(mean_squared_error(y_test, y_pred))\n",
        "rmse"
      ],
      "metadata": {
        "colab": {
          "base_uri": "https://localhost:8080/"
        },
        "id": "UMnXWGANdtl2",
        "outputId": "3cec2a07-1179-48f6-b939-72f67f9750f6"
      },
      "execution_count": 29,
      "outputs": [
        {
          "output_type": "execute_result",
          "data": {
            "text/plain": [
              "0.7033383507521884"
            ]
          },
          "metadata": {},
          "execution_count": 29
        }
      ]
    },
    {
      "cell_type": "markdown",
      "source": [
        "Split the data into training and test sets with random_state=0, shuffle=False and test_size=0.2 parameters.\n",
        "\n",
        "Let, y_test= target label in test set of california housing dataset\n",
        "\n",
        "and y_pred=target labels obtained by the model using X_test\n",
        "\n",
        "Then compute values of the following evaluation metrics"
      ],
      "metadata": {
        "id": "eqefFXUUeYuk"
      }
    },
    {
      "cell_type": "markdown",
      "source": [
        "1. Explained Variance score"
      ],
      "metadata": {
        "id": "pb3HeANZe3Pn"
      }
    },
    {
      "cell_type": "code",
      "source": [
        "from sklearn.metrics import explained_variance_score\n",
        "var=explained_variance_score(y_test, y_pred)\n",
        "var"
      ],
      "metadata": {
        "colab": {
          "base_uri": "https://localhost:8080/"
        },
        "id": "dUOm0750eZqB",
        "outputId": "dad2e664-7b16-41c1-dd71-05c8a93a0df0"
      },
      "execution_count": 30,
      "outputs": [
        {
          "output_type": "execute_result",
          "data": {
            "text/plain": [
              "0.6605500501742696"
            ]
          },
          "metadata": {},
          "execution_count": 30
        }
      ]
    },
    {
      "cell_type": "markdown",
      "source": [
        "2. Max Error"
      ],
      "metadata": {
        "id": "ws9ILehRgTIL"
      }
    },
    {
      "cell_type": "code",
      "source": [
        "from sklearn.metrics import max_error\n",
        "err= max_error(y_test, y_pred)\n",
        "err"
      ],
      "metadata": {
        "colab": {
          "base_uri": "https://localhost:8080/"
        },
        "id": "OIuxjJ20gVMt",
        "outputId": "44b1fc88-cc62-4ea9-8cff-80fe45c94cbc"
      },
      "execution_count": 31,
      "outputs": [
        {
          "output_type": "execute_result",
          "data": {
            "text/plain": [
              "7.2604532929585535"
            ]
          },
          "metadata": {},
          "execution_count": 31
        }
      ]
    },
    {
      "cell_type": "markdown",
      "source": [
        "3. Mean Absolute Error"
      ],
      "metadata": {
        "id": "R4UshtRIheWi"
      }
    },
    {
      "cell_type": "code",
      "source": [
        "from sklearn.metrics import mean_absolute_error\n",
        "mae= mean_absolute_error(y_test, y_pred)\n",
        "mae"
      ],
      "metadata": {
        "colab": {
          "base_uri": "https://localhost:8080/"
        },
        "id": "5_2w_OP-hjgs",
        "outputId": "8fadc8b2-d787-4f8c-f262-e8cfa7215436"
      },
      "execution_count": 32,
      "outputs": [
        {
          "output_type": "execute_result",
          "data": {
            "text/plain": [
              "0.5168526993787044"
            ]
          },
          "metadata": {},
          "execution_count": 32
        }
      ]
    },
    {
      "cell_type": "markdown",
      "source": [
        "4. Mean Squared Error"
      ],
      "metadata": {
        "id": "wp655J10h-Xs"
      }
    },
    {
      "cell_type": "code",
      "source": [
        "from sklearn.metrics import mean_squared_error\n",
        "mse= mean_squared_error(y_test, y_pred)\n",
        "mse"
      ],
      "metadata": {
        "colab": {
          "base_uri": "https://localhost:8080/"
        },
        "id": "fjqgaX5rh_zL",
        "outputId": "fdefcb4d-9fe8-43f6-911b-219331daefa1"
      },
      "execution_count": 33,
      "outputs": [
        {
          "output_type": "execute_result",
          "data": {
            "text/plain": [
              "0.4946848356388085"
            ]
          },
          "metadata": {},
          "execution_count": 33
        }
      ]
    },
    {
      "cell_type": "markdown",
      "source": [
        "perform SGD Regression on the given (scaled using StandardScalar()) dataset, using default hyperparameters and random_state=0.\n",
        "\n",
        "What is the bias term?"
      ],
      "metadata": {
        "id": "aNV65O9Dizps"
      }
    },
    {
      "cell_type": "code",
      "source": [
        "from sklearn.linear_model import SGDRegressor\n",
        "sgd_reg = SGDRegressor(random_state=0)\n",
        "sgd_reg.fit(X_train_scaled, y_train)\n",
        "bias_term = sgd_reg.intercept_\n",
        "\n",
        "print(\"Bias term (intercept):\", bias_term)"
      ],
      "metadata": {
        "colab": {
          "base_uri": "https://localhost:8080/"
        },
        "id": "qvWOIYEEi51s",
        "outputId": "3c8cfa7e-2b93-4adb-c8b1-b29eecea920d"
      },
      "execution_count": 34,
      "outputs": [
        {
          "output_type": "stream",
          "name": "stdout",
          "text": [
            "Bias term (intercept): [2.01123921]\n"
          ]
        }
      ]
    },
    {
      "cell_type": "markdown",
      "source": [
        "What are the coefficients in predicted model?"
      ],
      "metadata": {
        "id": "yS24YSNbkGtH"
      }
    },
    {
      "cell_type": "code",
      "source": [
        "\n",
        "coeff= sgd_reg.coef_\n",
        "coeff"
      ],
      "metadata": {
        "colab": {
          "base_uri": "https://localhost:8080/"
        },
        "id": "pKBJZxDekKTX",
        "outputId": "e3173271-6951-45d5-ae18-b0d2baab2a74"
      },
      "execution_count": 35,
      "outputs": [
        {
          "output_type": "execute_result",
          "data": {
            "text/plain": [
              "array([ 0.84046697,  0.112331  , -0.41213039,  0.21595971, -0.01781887,\n",
              "       -0.01480892, -0.87394103, -0.83913104])"
            ]
          },
          "metadata": {},
          "execution_count": 35
        }
      ]
    },
    {
      "cell_type": "markdown",
      "source": [],
      "metadata": {
        "id": "SSbsqZWudPqK"
      }
    }
  ]
}