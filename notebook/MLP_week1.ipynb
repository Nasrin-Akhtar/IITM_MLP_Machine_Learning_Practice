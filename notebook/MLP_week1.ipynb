{
  "nbformat": 4,
  "nbformat_minor": 0,
  "metadata": {
    "colab": {
      "provenance": [],
      "authorship_tag": "ABX9TyOz1SJH11e65Scqq7i+Fj09",
      "include_colab_link": true
    },
    "kernelspec": {
      "name": "python3",
      "display_name": "Python 3"
    },
    "language_info": {
      "name": "python"
    }
  },
  "cells": [
    {
      "cell_type": "markdown",
      "metadata": {
        "id": "view-in-github",
        "colab_type": "text"
      },
      "source": [
        "<a href=\"https://colab.research.google.com/github/Nasrin-Akhtar/IITM_MLP_Machine_Learning_Practice/blob/main/notebook/MLP_week1.ipynb\" target=\"_parent\"><img src=\"https://colab.research.google.com/assets/colab-badge.svg\" alt=\"Open In Colab\"/></a>"
      ]
    },
    {
      "cell_type": "code",
      "execution_count": 2,
      "metadata": {
        "id": "ngr3Gyo6Oz0y"
      },
      "outputs": [],
      "source": [
        "import pandas as pd\n",
        "import numpy as np"
      ]
    },
    {
      "cell_type": "code",
      "source": [
        "df=pd.read_csv('/content/V5.csv')\n",
        "df"
      ],
      "metadata": {
        "colab": {
          "base_uri": "https://localhost:8080/",
          "height": 614
        },
        "id": "u5qNlyuxPIXV",
        "outputId": "956de450-630f-4be8-bf2d-7b7027d4fc1d"
      },
      "execution_count": 3,
      "outputs": [
        {
          "output_type": "execute_result",
          "data": {
            "text/plain": [
              "            Date  Year    Locality  Estimated Value  Sale Price  \\\n",
              "0     2009-01-02  2009   Waterbury         111440.0    185000.0   \n",
              "1     2009-01-02  2009  Bridgeport         124670.0    150000.0   \n",
              "2     2009-01-02  2009   Waterbury          55720.0    140000.0   \n",
              "3     2009-01-02  2009  Bridgeport        4775276.0    272900.0   \n",
              "4     2009-01-02  2009  Bridgeport         112351.0    210000.0   \n",
              "...          ...   ...         ...              ...         ...   \n",
              "9995  2022-09-30  2022  Bridgeport         153660.0    322000.0   \n",
              "9996  2022-09-30  2022  Bridgeport         109820.0    340000.0   \n",
              "9997  2022-09-30  2022   Waterbury          83210.0    170000.0   \n",
              "9998  2022-09-30  2022         NaN         216420.0    415000.0   \n",
              "9999  2022-09-30  2022     Norwalk         154920.0    196000.0   \n",
              "\n",
              "           Property     Residential  num_rooms  num_bathrooms  carpet_area  \\\n",
              "0     Single Family  Detached House          3              3        996.0   \n",
              "1        Two Family          Duplex          4              3       1241.0   \n",
              "2     Single Family  Detached House          3              2        910.0   \n",
              "3     Single Family  Detached House          3              1        971.0   \n",
              "4                 ?  Detached House          3              2       1092.0   \n",
              "...             ...             ...        ...            ...          ...   \n",
              "9995              ?  Detached House          3              3        917.0   \n",
              "9996              ?          Duplex          4              4       1416.0   \n",
              "9997  Single Family  Detached House          3              1        964.0   \n",
              "9998  Single Family  Detached House          3              3       1014.0   \n",
              "9999  Single Family  Detached House          3              1        932.0   \n",
              "\n",
              "      property_tax_rate   Face  \n",
              "0              1.025953  South  \n",
              "1              1.025953  South  \n",
              "2              1.025953  South  \n",
              "3              1.025953   East  \n",
              "4              1.025953   East  \n",
              "...                 ...    ...  \n",
              "9995           1.003979  North  \n",
              "9996           1.003979  North  \n",
              "9997           1.003979  South  \n",
              "9998           1.003979  North  \n",
              "9999           1.003979   East  \n",
              "\n",
              "[10000 rows x 12 columns]"
            ],
            "text/html": [
              "\n",
              "  <div id=\"df-a5874957-47aa-41ab-9050-03450716a758\" class=\"colab-df-container\">\n",
              "    <div>\n",
              "<style scoped>\n",
              "    .dataframe tbody tr th:only-of-type {\n",
              "        vertical-align: middle;\n",
              "    }\n",
              "\n",
              "    .dataframe tbody tr th {\n",
              "        vertical-align: top;\n",
              "    }\n",
              "\n",
              "    .dataframe thead th {\n",
              "        text-align: right;\n",
              "    }\n",
              "</style>\n",
              "<table border=\"1\" class=\"dataframe\">\n",
              "  <thead>\n",
              "    <tr style=\"text-align: right;\">\n",
              "      <th></th>\n",
              "      <th>Date</th>\n",
              "      <th>Year</th>\n",
              "      <th>Locality</th>\n",
              "      <th>Estimated Value</th>\n",
              "      <th>Sale Price</th>\n",
              "      <th>Property</th>\n",
              "      <th>Residential</th>\n",
              "      <th>num_rooms</th>\n",
              "      <th>num_bathrooms</th>\n",
              "      <th>carpet_area</th>\n",
              "      <th>property_tax_rate</th>\n",
              "      <th>Face</th>\n",
              "    </tr>\n",
              "  </thead>\n",
              "  <tbody>\n",
              "    <tr>\n",
              "      <th>0</th>\n",
              "      <td>2009-01-02</td>\n",
              "      <td>2009</td>\n",
              "      <td>Waterbury</td>\n",
              "      <td>111440.0</td>\n",
              "      <td>185000.0</td>\n",
              "      <td>Single Family</td>\n",
              "      <td>Detached House</td>\n",
              "      <td>3</td>\n",
              "      <td>3</td>\n",
              "      <td>996.0</td>\n",
              "      <td>1.025953</td>\n",
              "      <td>South</td>\n",
              "    </tr>\n",
              "    <tr>\n",
              "      <th>1</th>\n",
              "      <td>2009-01-02</td>\n",
              "      <td>2009</td>\n",
              "      <td>Bridgeport</td>\n",
              "      <td>124670.0</td>\n",
              "      <td>150000.0</td>\n",
              "      <td>Two Family</td>\n",
              "      <td>Duplex</td>\n",
              "      <td>4</td>\n",
              "      <td>3</td>\n",
              "      <td>1241.0</td>\n",
              "      <td>1.025953</td>\n",
              "      <td>South</td>\n",
              "    </tr>\n",
              "    <tr>\n",
              "      <th>2</th>\n",
              "      <td>2009-01-02</td>\n",
              "      <td>2009</td>\n",
              "      <td>Waterbury</td>\n",
              "      <td>55720.0</td>\n",
              "      <td>140000.0</td>\n",
              "      <td>Single Family</td>\n",
              "      <td>Detached House</td>\n",
              "      <td>3</td>\n",
              "      <td>2</td>\n",
              "      <td>910.0</td>\n",
              "      <td>1.025953</td>\n",
              "      <td>South</td>\n",
              "    </tr>\n",
              "    <tr>\n",
              "      <th>3</th>\n",
              "      <td>2009-01-02</td>\n",
              "      <td>2009</td>\n",
              "      <td>Bridgeport</td>\n",
              "      <td>4775276.0</td>\n",
              "      <td>272900.0</td>\n",
              "      <td>Single Family</td>\n",
              "      <td>Detached House</td>\n",
              "      <td>3</td>\n",
              "      <td>1</td>\n",
              "      <td>971.0</td>\n",
              "      <td>1.025953</td>\n",
              "      <td>East</td>\n",
              "    </tr>\n",
              "    <tr>\n",
              "      <th>4</th>\n",
              "      <td>2009-01-02</td>\n",
              "      <td>2009</td>\n",
              "      <td>Bridgeport</td>\n",
              "      <td>112351.0</td>\n",
              "      <td>210000.0</td>\n",
              "      <td>?</td>\n",
              "      <td>Detached House</td>\n",
              "      <td>3</td>\n",
              "      <td>2</td>\n",
              "      <td>1092.0</td>\n",
              "      <td>1.025953</td>\n",
              "      <td>East</td>\n",
              "    </tr>\n",
              "    <tr>\n",
              "      <th>...</th>\n",
              "      <td>...</td>\n",
              "      <td>...</td>\n",
              "      <td>...</td>\n",
              "      <td>...</td>\n",
              "      <td>...</td>\n",
              "      <td>...</td>\n",
              "      <td>...</td>\n",
              "      <td>...</td>\n",
              "      <td>...</td>\n",
              "      <td>...</td>\n",
              "      <td>...</td>\n",
              "      <td>...</td>\n",
              "    </tr>\n",
              "    <tr>\n",
              "      <th>9995</th>\n",
              "      <td>2022-09-30</td>\n",
              "      <td>2022</td>\n",
              "      <td>Bridgeport</td>\n",
              "      <td>153660.0</td>\n",
              "      <td>322000.0</td>\n",
              "      <td>?</td>\n",
              "      <td>Detached House</td>\n",
              "      <td>3</td>\n",
              "      <td>3</td>\n",
              "      <td>917.0</td>\n",
              "      <td>1.003979</td>\n",
              "      <td>North</td>\n",
              "    </tr>\n",
              "    <tr>\n",
              "      <th>9996</th>\n",
              "      <td>2022-09-30</td>\n",
              "      <td>2022</td>\n",
              "      <td>Bridgeport</td>\n",
              "      <td>109820.0</td>\n",
              "      <td>340000.0</td>\n",
              "      <td>?</td>\n",
              "      <td>Duplex</td>\n",
              "      <td>4</td>\n",
              "      <td>4</td>\n",
              "      <td>1416.0</td>\n",
              "      <td>1.003979</td>\n",
              "      <td>North</td>\n",
              "    </tr>\n",
              "    <tr>\n",
              "      <th>9997</th>\n",
              "      <td>2022-09-30</td>\n",
              "      <td>2022</td>\n",
              "      <td>Waterbury</td>\n",
              "      <td>83210.0</td>\n",
              "      <td>170000.0</td>\n",
              "      <td>Single Family</td>\n",
              "      <td>Detached House</td>\n",
              "      <td>3</td>\n",
              "      <td>1</td>\n",
              "      <td>964.0</td>\n",
              "      <td>1.003979</td>\n",
              "      <td>South</td>\n",
              "    </tr>\n",
              "    <tr>\n",
              "      <th>9998</th>\n",
              "      <td>2022-09-30</td>\n",
              "      <td>2022</td>\n",
              "      <td>NaN</td>\n",
              "      <td>216420.0</td>\n",
              "      <td>415000.0</td>\n",
              "      <td>Single Family</td>\n",
              "      <td>Detached House</td>\n",
              "      <td>3</td>\n",
              "      <td>3</td>\n",
              "      <td>1014.0</td>\n",
              "      <td>1.003979</td>\n",
              "      <td>North</td>\n",
              "    </tr>\n",
              "    <tr>\n",
              "      <th>9999</th>\n",
              "      <td>2022-09-30</td>\n",
              "      <td>2022</td>\n",
              "      <td>Norwalk</td>\n",
              "      <td>154920.0</td>\n",
              "      <td>196000.0</td>\n",
              "      <td>Single Family</td>\n",
              "      <td>Detached House</td>\n",
              "      <td>3</td>\n",
              "      <td>1</td>\n",
              "      <td>932.0</td>\n",
              "      <td>1.003979</td>\n",
              "      <td>East</td>\n",
              "    </tr>\n",
              "  </tbody>\n",
              "</table>\n",
              "<p>10000 rows × 12 columns</p>\n",
              "</div>\n",
              "    <div class=\"colab-df-buttons\">\n",
              "\n",
              "  <div class=\"colab-df-container\">\n",
              "    <button class=\"colab-df-convert\" onclick=\"convertToInteractive('df-a5874957-47aa-41ab-9050-03450716a758')\"\n",
              "            title=\"Convert this dataframe to an interactive table.\"\n",
              "            style=\"display:none;\">\n",
              "\n",
              "  <svg xmlns=\"http://www.w3.org/2000/svg\" height=\"24px\" viewBox=\"0 -960 960 960\">\n",
              "    <path d=\"M120-120v-720h720v720H120Zm60-500h600v-160H180v160Zm220 220h160v-160H400v160Zm0 220h160v-160H400v160ZM180-400h160v-160H180v160Zm440 0h160v-160H620v160ZM180-180h160v-160H180v160Zm440 0h160v-160H620v160Z\"/>\n",
              "  </svg>\n",
              "    </button>\n",
              "\n",
              "  <style>\n",
              "    .colab-df-container {\n",
              "      display:flex;\n",
              "      gap: 12px;\n",
              "    }\n",
              "\n",
              "    .colab-df-convert {\n",
              "      background-color: #E8F0FE;\n",
              "      border: none;\n",
              "      border-radius: 50%;\n",
              "      cursor: pointer;\n",
              "      display: none;\n",
              "      fill: #1967D2;\n",
              "      height: 32px;\n",
              "      padding: 0 0 0 0;\n",
              "      width: 32px;\n",
              "    }\n",
              "\n",
              "    .colab-df-convert:hover {\n",
              "      background-color: #E2EBFA;\n",
              "      box-shadow: 0px 1px 2px rgba(60, 64, 67, 0.3), 0px 1px 3px 1px rgba(60, 64, 67, 0.15);\n",
              "      fill: #174EA6;\n",
              "    }\n",
              "\n",
              "    .colab-df-buttons div {\n",
              "      margin-bottom: 4px;\n",
              "    }\n",
              "\n",
              "    [theme=dark] .colab-df-convert {\n",
              "      background-color: #3B4455;\n",
              "      fill: #D2E3FC;\n",
              "    }\n",
              "\n",
              "    [theme=dark] .colab-df-convert:hover {\n",
              "      background-color: #434B5C;\n",
              "      box-shadow: 0px 1px 3px 1px rgba(0, 0, 0, 0.15);\n",
              "      filter: drop-shadow(0px 1px 2px rgba(0, 0, 0, 0.3));\n",
              "      fill: #FFFFFF;\n",
              "    }\n",
              "  </style>\n",
              "\n",
              "    <script>\n",
              "      const buttonEl =\n",
              "        document.querySelector('#df-a5874957-47aa-41ab-9050-03450716a758 button.colab-df-convert');\n",
              "      buttonEl.style.display =\n",
              "        google.colab.kernel.accessAllowed ? 'block' : 'none';\n",
              "\n",
              "      async function convertToInteractive(key) {\n",
              "        const element = document.querySelector('#df-a5874957-47aa-41ab-9050-03450716a758');\n",
              "        const dataTable =\n",
              "          await google.colab.kernel.invokeFunction('convertToInteractive',\n",
              "                                                    [key], {});\n",
              "        if (!dataTable) return;\n",
              "\n",
              "        const docLinkHtml = 'Like what you see? Visit the ' +\n",
              "          '<a target=\"_blank\" href=https://colab.research.google.com/notebooks/data_table.ipynb>data table notebook</a>'\n",
              "          + ' to learn more about interactive tables.';\n",
              "        element.innerHTML = '';\n",
              "        dataTable['output_type'] = 'display_data';\n",
              "        await google.colab.output.renderOutput(dataTable, element);\n",
              "        const docLink = document.createElement('div');\n",
              "        docLink.innerHTML = docLinkHtml;\n",
              "        element.appendChild(docLink);\n",
              "      }\n",
              "    </script>\n",
              "  </div>\n",
              "\n",
              "\n",
              "<div id=\"df-eaeba6bc-29b1-4297-b20d-e3c935de7cef\">\n",
              "  <button class=\"colab-df-quickchart\" onclick=\"quickchart('df-eaeba6bc-29b1-4297-b20d-e3c935de7cef')\"\n",
              "            title=\"Suggest charts\"\n",
              "            style=\"display:none;\">\n",
              "\n",
              "<svg xmlns=\"http://www.w3.org/2000/svg\" height=\"24px\"viewBox=\"0 0 24 24\"\n",
              "     width=\"24px\">\n",
              "    <g>\n",
              "        <path d=\"M19 3H5c-1.1 0-2 .9-2 2v14c0 1.1.9 2 2 2h14c1.1 0 2-.9 2-2V5c0-1.1-.9-2-2-2zM9 17H7v-7h2v7zm4 0h-2V7h2v10zm4 0h-2v-4h2v4z\"/>\n",
              "    </g>\n",
              "</svg>\n",
              "  </button>\n",
              "\n",
              "<style>\n",
              "  .colab-df-quickchart {\n",
              "      --bg-color: #E8F0FE;\n",
              "      --fill-color: #1967D2;\n",
              "      --hover-bg-color: #E2EBFA;\n",
              "      --hover-fill-color: #174EA6;\n",
              "      --disabled-fill-color: #AAA;\n",
              "      --disabled-bg-color: #DDD;\n",
              "  }\n",
              "\n",
              "  [theme=dark] .colab-df-quickchart {\n",
              "      --bg-color: #3B4455;\n",
              "      --fill-color: #D2E3FC;\n",
              "      --hover-bg-color: #434B5C;\n",
              "      --hover-fill-color: #FFFFFF;\n",
              "      --disabled-bg-color: #3B4455;\n",
              "      --disabled-fill-color: #666;\n",
              "  }\n",
              "\n",
              "  .colab-df-quickchart {\n",
              "    background-color: var(--bg-color);\n",
              "    border: none;\n",
              "    border-radius: 50%;\n",
              "    cursor: pointer;\n",
              "    display: none;\n",
              "    fill: var(--fill-color);\n",
              "    height: 32px;\n",
              "    padding: 0;\n",
              "    width: 32px;\n",
              "  }\n",
              "\n",
              "  .colab-df-quickchart:hover {\n",
              "    background-color: var(--hover-bg-color);\n",
              "    box-shadow: 0 1px 2px rgba(60, 64, 67, 0.3), 0 1px 3px 1px rgba(60, 64, 67, 0.15);\n",
              "    fill: var(--button-hover-fill-color);\n",
              "  }\n",
              "\n",
              "  .colab-df-quickchart-complete:disabled,\n",
              "  .colab-df-quickchart-complete:disabled:hover {\n",
              "    background-color: var(--disabled-bg-color);\n",
              "    fill: var(--disabled-fill-color);\n",
              "    box-shadow: none;\n",
              "  }\n",
              "\n",
              "  .colab-df-spinner {\n",
              "    border: 2px solid var(--fill-color);\n",
              "    border-color: transparent;\n",
              "    border-bottom-color: var(--fill-color);\n",
              "    animation:\n",
              "      spin 1s steps(1) infinite;\n",
              "  }\n",
              "\n",
              "  @keyframes spin {\n",
              "    0% {\n",
              "      border-color: transparent;\n",
              "      border-bottom-color: var(--fill-color);\n",
              "      border-left-color: var(--fill-color);\n",
              "    }\n",
              "    20% {\n",
              "      border-color: transparent;\n",
              "      border-left-color: var(--fill-color);\n",
              "      border-top-color: var(--fill-color);\n",
              "    }\n",
              "    30% {\n",
              "      border-color: transparent;\n",
              "      border-left-color: var(--fill-color);\n",
              "      border-top-color: var(--fill-color);\n",
              "      border-right-color: var(--fill-color);\n",
              "    }\n",
              "    40% {\n",
              "      border-color: transparent;\n",
              "      border-right-color: var(--fill-color);\n",
              "      border-top-color: var(--fill-color);\n",
              "    }\n",
              "    60% {\n",
              "      border-color: transparent;\n",
              "      border-right-color: var(--fill-color);\n",
              "    }\n",
              "    80% {\n",
              "      border-color: transparent;\n",
              "      border-right-color: var(--fill-color);\n",
              "      border-bottom-color: var(--fill-color);\n",
              "    }\n",
              "    90% {\n",
              "      border-color: transparent;\n",
              "      border-bottom-color: var(--fill-color);\n",
              "    }\n",
              "  }\n",
              "</style>\n",
              "\n",
              "  <script>\n",
              "    async function quickchart(key) {\n",
              "      const quickchartButtonEl =\n",
              "        document.querySelector('#' + key + ' button');\n",
              "      quickchartButtonEl.disabled = true;  // To prevent multiple clicks.\n",
              "      quickchartButtonEl.classList.add('colab-df-spinner');\n",
              "      try {\n",
              "        const charts = await google.colab.kernel.invokeFunction(\n",
              "            'suggestCharts', [key], {});\n",
              "      } catch (error) {\n",
              "        console.error('Error during call to suggestCharts:', error);\n",
              "      }\n",
              "      quickchartButtonEl.classList.remove('colab-df-spinner');\n",
              "      quickchartButtonEl.classList.add('colab-df-quickchart-complete');\n",
              "    }\n",
              "    (() => {\n",
              "      let quickchartButtonEl =\n",
              "        document.querySelector('#df-eaeba6bc-29b1-4297-b20d-e3c935de7cef button');\n",
              "      quickchartButtonEl.style.display =\n",
              "        google.colab.kernel.accessAllowed ? 'block' : 'none';\n",
              "    })();\n",
              "  </script>\n",
              "</div>\n",
              "    </div>\n",
              "  </div>\n"
            ]
          },
          "metadata": {},
          "execution_count": 3
        }
      ]
    },
    {
      "cell_type": "code",
      "source": [
        "prev=df.isnull().sum().sum()"
      ],
      "metadata": {
        "id": "Hyolt9bGUnVM"
      },
      "execution_count": 4,
      "outputs": []
    },
    {
      "cell_type": "markdown",
      "source": [
        "**1.** How many unknown (\"?) values are present in the dataset? Remove/Delete unknown (\"?) values present in the dataset to make it null value.\n",
        "Remove/Delete - means it will show NAN in place of \"?\"\n",
        "*Note: If there is no value present in the dataset it is represented as NAN(read pandas documentation for all the other ways to represent null values) in data*\n"
      ],
      "metadata": {
        "id": "EuhUe2NqP-sf"
      }
    },
    {
      "cell_type": "code",
      "source": [
        "df=df.replace(\"?\",pd.NA)"
      ],
      "metadata": {
        "id": "2lJUQqFhUFAu"
      },
      "execution_count": 5,
      "outputs": []
    },
    {
      "cell_type": "code",
      "source": [
        "total=df.isnull().sum().sum()"
      ],
      "metadata": {
        "id": "CoWJ29DpUPmw"
      },
      "execution_count": 6,
      "outputs": []
    },
    {
      "cell_type": "code",
      "source": [
        "unknown=total-prev\n",
        "unknown"
      ],
      "metadata": {
        "colab": {
          "base_uri": "https://localhost:8080/"
        },
        "id": "ZPa0kBWSXONe",
        "outputId": "c34f172c-43eb-4830-c02f-17a670a0e08a"
      },
      "execution_count": 7,
      "outputs": [
        {
          "output_type": "execute_result",
          "data": {
            "text/plain": [
              "1823"
            ]
          },
          "metadata": {},
          "execution_count": 7
        }
      ]
    },
    {
      "cell_type": "markdown",
      "source": [
        "2. What is the value present at the 692th indexed row and 0th indexed column in the data ?"
      ],
      "metadata": {
        "id": "vuObOLtLX9B8"
      }
    },
    {
      "cell_type": "code",
      "source": [
        "df.iloc[692,0]"
      ],
      "metadata": {
        "colab": {
          "base_uri": "https://localhost:8080/",
          "height": 36
        },
        "id": "kKAlHircX_IF",
        "outputId": "c3a90db3-6299-435d-ac6b-aa8ced51901d"
      },
      "execution_count": 8,
      "outputs": [
        {
          "output_type": "execute_result",
          "data": {
            "text/plain": [
              "'2009-11-16'"
            ],
            "application/vnd.google.colaboratory.intrinsic+json": {
              "type": "string"
            }
          },
          "metadata": {},
          "execution_count": 8
        }
      ]
    },
    {
      "cell_type": "markdown",
      "source": [
        "3. What is the value present at the 546th indexed row and 7th indexed column in the data ?"
      ],
      "metadata": {
        "id": "0W39WNBnYSJ-"
      }
    },
    {
      "cell_type": "code",
      "source": [
        "df.iloc[546,7]"
      ],
      "metadata": {
        "colab": {
          "base_uri": "https://localhost:8080/"
        },
        "id": "wv98D4vsYUIq",
        "outputId": "72522eff-2f0a-46a5-fec9-be4458527b8a"
      },
      "execution_count": 9,
      "outputs": [
        {
          "output_type": "execute_result",
          "data": {
            "text/plain": [
              "3"
            ]
          },
          "metadata": {},
          "execution_count": 9
        }
      ]
    },
    {
      "cell_type": "markdown",
      "source": [
        "4. What are the unique values present in the Locality feature of the dataset?"
      ],
      "metadata": {
        "id": "O5XC-EWiYguh"
      }
    },
    {
      "cell_type": "code",
      "source": [
        "df['Locality'].unique()"
      ],
      "metadata": {
        "colab": {
          "base_uri": "https://localhost:8080/"
        },
        "id": "pjBIxo99Ylwj",
        "outputId": "df74d4ef-d271-4a2a-e995-100fe34219c8"
      },
      "execution_count": 10,
      "outputs": [
        {
          "output_type": "execute_result",
          "data": {
            "text/plain": [
              "array(['Waterbury', 'Bridgeport', 'Greenwich', 'Norwalk', nan,\n",
              "       'Fairfield', 'West Hartford', 'Stamford'], dtype=object)"
            ]
          },
          "metadata": {},
          "execution_count": 10
        }
      ]
    },
    {
      "cell_type": "markdown",
      "source": [
        "5. Which of the following features have missing(NaN) values present in the dataset?\n",
        "(Note: compute after removing \"?\")"
      ],
      "metadata": {
        "id": "fnJ54Jw8ZH6e"
      }
    },
    {
      "cell_type": "code",
      "source": [
        "df.isnull().sum()"
      ],
      "metadata": {
        "colab": {
          "base_uri": "https://localhost:8080/"
        },
        "id": "77wB4UrkZGrw",
        "outputId": "4c46def8-da81-4617-b56b-5df2e0899eb4"
      },
      "execution_count": 11,
      "outputs": [
        {
          "output_type": "execute_result",
          "data": {
            "text/plain": [
              "Date                    0\n",
              "Year                    0\n",
              "Locality             1253\n",
              "Estimated Value      1243\n",
              "Sale Price              0\n",
              "Property             1823\n",
              "Residential             0\n",
              "num_rooms               0\n",
              "num_bathrooms           0\n",
              "carpet_area          1229\n",
              "property_tax_rate       0\n",
              "Face                    0\n",
              "dtype: int64"
            ]
          },
          "metadata": {},
          "execution_count": 11
        }
      ]
    },
    {
      "cell_type": "markdown",
      "source": [
        "6. Drop all the samples(rows) with missing values strictly greater than 2. How many samples remains after that ?"
      ],
      "metadata": {
        "id": "SCR5aMdaZvwf"
      }
    },
    {
      "cell_type": "code",
      "source": [
        "missing_value_per_row=df.isnull().sum(axis=1)\n",
        "df1=df[missing_value_per_row<=2]\n",
        "print('sample remaining :',len(df1))"
      ],
      "metadata": {
        "colab": {
          "base_uri": "https://localhost:8080/"
        },
        "id": "8KAqRQhdZ7zs",
        "outputId": "1f45056b-bbcc-419c-cec2-2a4fd6ffdcb1"
      },
      "execution_count": 12,
      "outputs": [
        {
          "output_type": "stream",
          "name": "stdout",
          "text": [
            "sample remaining : 9917\n"
          ]
        }
      ]
    },
    {
      "cell_type": "markdown",
      "source": [
        "7.\n",
        "Drop all the samples(rows) with missing values in the original dataframe . How many samples remains after that ?"
      ],
      "metadata": {
        "id": "Ej3AQjTHbSKa"
      }
    },
    {
      "cell_type": "code",
      "source": [
        "df2=df.dropna()\n",
        "df2.shape"
      ],
      "metadata": {
        "colab": {
          "base_uri": "https://localhost:8080/"
        },
        "id": "zDIZ6Mqgam4u",
        "outputId": "6fe721bc-77ac-406b-b7df-5507d8123912"
      },
      "execution_count": 13,
      "outputs": [
        {
          "output_type": "execute_result",
          "data": {
            "text/plain": [
              "(5449, 12)"
            ]
          },
          "metadata": {},
          "execution_count": 13
        }
      ]
    },
    {
      "cell_type": "markdown",
      "source": [
        "8. Select all the even indexed rows from the given dataset. What is the value in the 3rd indexed column of the 0th indexed row in the selected dataframe. (row/ column indexed from zero(0) in python/pandas)\n"
      ],
      "metadata": {
        "id": "wjuKfZtrcZVC"
      }
    },
    {
      "cell_type": "code",
      "source": [
        "even_indexed_rows=df.iloc[::2]\n",
        "even_indexed_rows.iloc[0,3]"
      ],
      "metadata": {
        "colab": {
          "base_uri": "https://localhost:8080/"
        },
        "id": "0E--qpNZcbss",
        "outputId": "10047ba7-fc54-4c46-f630-fc5e64e218b5"
      },
      "execution_count": 14,
      "outputs": [
        {
          "output_type": "execute_result",
          "data": {
            "text/plain": [
              "111440.0"
            ]
          },
          "metadata": {},
          "execution_count": 14
        }
      ]
    },
    {
      "cell_type": "markdown",
      "source": [
        "9. Select all the even indexed rows from the given dataset. What is the value in the 3rd indexed column of the 332th indexed row in the selected dataframe. (row/ column indexed from zero(0))\n"
      ],
      "metadata": {
        "id": "Vo9Y_6B1dt_z"
      }
    },
    {
      "cell_type": "code",
      "source": [
        "even_indexed_rows.iloc[332,3]"
      ],
      "metadata": {
        "colab": {
          "base_uri": "https://localhost:8080/"
        },
        "id": "WEY8fd02dxC2",
        "outputId": "ad303319-9ac9-49e3-ec69-e44e32efceb3"
      },
      "execution_count": 15,
      "outputs": [
        {
          "output_type": "execute_result",
          "data": {
            "text/plain": [
              "256200.0"
            ]
          },
          "metadata": {},
          "execution_count": 15
        }
      ]
    },
    {
      "cell_type": "markdown",
      "source": [
        "10. Select all the odd indexed rows from the given dataset. What is the value in the 3rd indexed column of the 332th indexed row in the selected dataframe. (row/ column indexed from zero(0))\n",
        " Please consider case sensitivity while giving your solution capital letter ≠ small letter\n",
        "  If it is a string don't write quotes in the solution."
      ],
      "metadata": {
        "id": "fCks7dASeY_h"
      }
    },
    {
      "cell_type": "code",
      "source": [
        "odd_indexed_rows=df.iloc[1::2]\n",
        "odd_indexed_rows.iloc[332,3]"
      ],
      "metadata": {
        "colab": {
          "base_uri": "https://localhost:8080/"
        },
        "id": "Q0DWwTdKebWf",
        "outputId": "b364588a-29ef-4723-e4a1-5fb2e2d107c3"
      },
      "execution_count": 16,
      "outputs": [
        {
          "output_type": "execute_result",
          "data": {
            "text/plain": [
              "352940.0"
            ]
          },
          "metadata": {},
          "execution_count": 16
        }
      ]
    },
    {
      "cell_type": "markdown",
      "source": [
        "11. Select all the odd indexed columns from the given dataset. What is the value in the 5th indexed column of the 100th indexed row in the selected dataframe. (row/ column indexed from zero(0))\n",
        "Please consider case sensitivity while giving your solution capital letter ≠ small letter\n",
        "If it is a string don't write quotes in the solution."
      ],
      "metadata": {
        "id": "crnBRy7qe5sP"
      }
    },
    {
      "cell_type": "code",
      "source": [
        "odd_indexed_col=df.iloc[:, 1::2]\n",
        "odd_indexed_col.iloc[100,5]"
      ],
      "metadata": {
        "colab": {
          "base_uri": "https://localhost:8080/",
          "height": 36
        },
        "id": "vk4PeoIue7y-",
        "outputId": "4b65dddf-34fc-4048-8e91-5453d4750ab1"
      },
      "execution_count": 17,
      "outputs": [
        {
          "output_type": "execute_result",
          "data": {
            "text/plain": [
              "'West'"
            ],
            "application/vnd.google.colaboratory.intrinsic+json": {
              "type": "string"
            }
          },
          "metadata": {},
          "execution_count": 17
        }
      ]
    },
    {
      "cell_type": "markdown",
      "source": [
        "12. Select all the even indexed columns and even indexed rows from the given dataset. What is the value in the 3th indexed column of the 255th indexed row in the selected dataframe. (row/ column indexed/starts from zero(0))\n",
        "Please consider case sensitivity while giving your solution capital letter ≠ small letter\n",
        "If it is a string don't write quotes in the solution."
      ],
      "metadata": {
        "id": "iz7m7EhNfJMv"
      }
    },
    {
      "cell_type": "code",
      "source": [
        "even_indexed_rows_col=df.iloc[::2, ::2]\n",
        "even_indexed_rows_col.iloc[255,3]"
      ],
      "metadata": {
        "colab": {
          "base_uri": "https://localhost:8080/",
          "height": 36
        },
        "id": "_EsX36YIfLOs",
        "outputId": "845eb100-ad1a-402b-c411-a48529aa16ed"
      },
      "execution_count": 18,
      "outputs": [
        {
          "output_type": "execute_result",
          "data": {
            "text/plain": [
              "'Detached House'"
            ],
            "application/vnd.google.colaboratory.intrinsic+json": {
              "type": "string"
            }
          },
          "metadata": {},
          "execution_count": 18
        }
      ]
    },
    {
      "cell_type": "markdown",
      "source": [
        "13.\n",
        "Determine the number of samples (rows) in the dataset that belong to the six most recent years, based on the provided data"
      ],
      "metadata": {
        "id": "5cCLpJdVf7sy"
      }
    },
    {
      "cell_type": "code",
      "source": [
        "sorted_df=df.sort_values(by='Year',ascending= False)\n",
        "recent_years=sorted_df['Year']=='2022'\n",
        "len(recent_years)"
      ],
      "metadata": {
        "id": "1HfoJQJFjtqw",
        "outputId": "0c1ba6cf-33bb-43dd-a46f-1481b9e468be",
        "colab": {
          "base_uri": "https://localhost:8080/"
        }
      },
      "execution_count": 19,
      "outputs": [
        {
          "output_type": "execute_result",
          "data": {
            "text/plain": [
              "10000"
            ]
          },
          "metadata": {},
          "execution_count": 19
        }
      ]
    },
    {
      "cell_type": "markdown",
      "source": [
        "14. Determine the number of samples (rows) in the dataset which has num_rooms = 3 and num_bathrooms = 3\n"
      ],
      "metadata": {
        "id": "X8SwN92gYyis"
      }
    },
    {
      "cell_type": "code",
      "source": [
        "df3=df[(df['num_rooms']==3) & (df['num_bathrooms']==3)]\n",
        "print(\"Number of samples :\", len(df3))"
      ],
      "metadata": {
        "id": "SEBAratvYx_U",
        "outputId": "386337eb-9806-4fc1-9f75-550587a7b8d8",
        "colab": {
          "base_uri": "https://localhost:8080/"
        }
      },
      "execution_count": 29,
      "outputs": [
        {
          "output_type": "stream",
          "name": "stdout",
          "text": [
            "Number of samples : 2730\n"
          ]
        }
      ]
    },
    {
      "cell_type": "markdown",
      "source": [
        "15. Determine the number of samples (rows) in the dataset which has num_rooms = 3 or num_bathrooms = 3\n"
      ],
      "metadata": {
        "id": "DslKrjKUJDQ9"
      }
    },
    {
      "cell_type": "code",
      "source": [
        "df4=df[(df['num_rooms']==3) | (df['num_bathrooms']==3)]\n",
        "print(\"Number of samples :\", len(df4))"
      ],
      "metadata": {
        "id": "yq0QWIJbJGRW",
        "outputId": "cb5d57cb-9764-4841-db74-017276c87554",
        "colab": {
          "base_uri": "https://localhost:8080/"
        }
      },
      "execution_count": 28,
      "outputs": [
        {
          "output_type": "stream",
          "name": "stdout",
          "text": [
            "Number of samples : 8591\n"
          ]
        }
      ]
    },
    {
      "cell_type": "markdown",
      "source": [
        "16. In the Year 2022, how many houses (rows) located in the Greenwich Locality have exactly num_room == 3, and facing towards either the North or East?\n"
      ],
      "metadata": {
        "id": "FxTDTyGuJogQ"
      }
    },
    {
      "cell_type": "code",
      "source": [
        "df5=df[(df['Locality']=='Greenwich') & (df['Year']==2022) & (df['num_rooms']==3) & ((df['Face']=='North') | (df['Face']=='East'))]\n",
        "print(\"Number of houses:\", len(df5))"
      ],
      "metadata": {
        "id": "c8wkYRIpJsLW",
        "outputId": "a6063a9b-1bbd-424f-b8d2-dd06fddf039b",
        "colab": {
          "base_uri": "https://localhost:8080/"
        }
      },
      "execution_count": 27,
      "outputs": [
        {
          "output_type": "stream",
          "name": "stdout",
          "text": [
            "Number of houses: 42\n"
          ]
        }
      ]
    },
    {
      "cell_type": "markdown",
      "source": [
        "17. Calculate the number of samples(rows) that correspond to the month of August across all the years.?\n"
      ],
      "metadata": {
        "id": "H68KDu7ALouU"
      }
    },
    {
      "cell_type": "code",
      "source": [
        "# Extract the month from the 'Date' column\n",
        "df['Month'] = df['Date'].dt.month\n",
        "# Count the number of samples corresponding to the month of August (month number 8)\n",
        "num_samples_august = len(df[df['Month'] == 8])\n",
        "print(\"Number of samples in the month of August:\", num_samples_august)"
      ],
      "metadata": {
        "id": "W8E31e9BLnjD",
        "outputId": "f1b2853f-f9a6-426c-c23b-cb99089d8858",
        "colab": {
          "base_uri": "https://localhost:8080/"
        }
      },
      "execution_count": 26,
      "outputs": [
        {
          "output_type": "stream",
          "name": "stdout",
          "text": [
            "Number of samples in the month of August: 1050\n"
          ]
        }
      ]
    },
    {
      "cell_type": "markdown",
      "source": [
        "18. According to the data which Locality have highest average Sale Price?"
      ],
      "metadata": {
        "id": "g9R9LMbeMpa0"
      }
    },
    {
      "cell_type": "code",
      "source": [
        "new_df=df.groupby('Locality')['Sale Price'].mean()\n",
        "new_df.idxmax()\n"
      ],
      "metadata": {
        "id": "y8--dTycMr1o",
        "outputId": "bb22b464-fe6b-4d17-ed7e-777ce3c952dd",
        "colab": {
          "base_uri": "https://localhost:8080/",
          "height": 36
        }
      },
      "execution_count": 35,
      "outputs": [
        {
          "output_type": "execute_result",
          "data": {
            "text/plain": [
              "'Greenwich'"
            ],
            "application/vnd.google.colaboratory.intrinsic+json": {
              "type": "string"
            }
          },
          "metadata": {},
          "execution_count": 35
        }
      ]
    }
  ]
}