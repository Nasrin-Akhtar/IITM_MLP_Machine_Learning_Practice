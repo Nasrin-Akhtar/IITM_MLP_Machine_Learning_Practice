{
  "nbformat": 4,
  "nbformat_minor": 0,
  "metadata": {
    "colab": {
      "provenance": [],
      "authorship_tag": "ABX9TyP1D+WyLSby1Z9tve4snS4F",
      "include_colab_link": true
    },
    "kernelspec": {
      "name": "python3",
      "display_name": "Python 3"
    },
    "language_info": {
      "name": "python"
    }
  },
  "cells": [
    {
      "cell_type": "markdown",
      "metadata": {
        "id": "view-in-github",
        "colab_type": "text"
      },
      "source": [
        "<a href=\"https://colab.research.google.com/github/Nasrin-Akhtar/IITM_MLP_Machine_Learning_Practice/blob/main/MLP_week2.ipynb\" target=\"_parent\"><img src=\"https://colab.research.google.com/assets/colab-badge.svg\" alt=\"Open In Colab\"/></a>"
      ]
    },
    {
      "cell_type": "markdown",
      "source": [
        "\n",
        "Find shape of the Wisconsin breast cancer data's feature matrix (accessed from sklearn.datasets)"
      ],
      "metadata": {
        "id": "FJsBXLiQ-O5n"
      }
    },
    {
      "cell_type": "code",
      "source": [
        "from sklearn.datasets import load_breast_cancer"
      ],
      "metadata": {
        "id": "klHTZHWX-ZIq"
      },
      "execution_count": 7,
      "outputs": []
    },
    {
      "cell_type": "code",
      "source": [
        "data= load_breast_cancer()\n",
        "df=data.data\n",
        "df.shape"
      ],
      "metadata": {
        "colab": {
          "base_uri": "https://localhost:8080/"
        },
        "id": "9YsNoOzJ-skx",
        "outputId": "3a249b0c-0957-411b-e7ac-fa9c942af7c1"
      },
      "execution_count": 15,
      "outputs": [
        {
          "output_type": "execute_result",
          "data": {
            "text/plain": [
              "(569, 30)"
            ]
          },
          "metadata": {},
          "execution_count": 15
        }
      ]
    },
    {
      "cell_type": "markdown",
      "source": [
        "\n",
        "How many benign ( B ) tumour cases are present in the Wisconsin breast cancer dataset ?\n"
      ],
      "metadata": {
        "id": "hiwMmVVDBRWO"
      }
    },
    {
      "cell_type": "code",
      "source": [
        "label=data.target\n",
        "B_tumour= (label==1).sum()\n",
        "B_tumour"
      ],
      "metadata": {
        "colab": {
          "base_uri": "https://localhost:8080/"
        },
        "id": "l_HIE_QHBVKJ",
        "outputId": "49673bd2-3999-4500-e57d-75f4a0a69dc8"
      },
      "execution_count": 22,
      "outputs": [
        {
          "output_type": "execute_result",
          "data": {
            "text/plain": [
              "357"
            ]
          },
          "metadata": {},
          "execution_count": 22
        }
      ]
    },
    {
      "cell_type": "markdown",
      "source": [
        "How many malignant ( M ) tumour cases are present in the Wisconsin breast cancer dataset."
      ],
      "metadata": {
        "id": "8u_CFlWnCLdd"
      }
    },
    {
      "cell_type": "code",
      "source": [
        "malg= (label==0).sum()\n",
        "malg"
      ],
      "metadata": {
        "colab": {
          "base_uri": "https://localhost:8080/"
        },
        "id": "cwcvsAvHCQGc",
        "outputId": "f7756626-f436-49f8-c06f-993245b5606e"
      },
      "execution_count": 23,
      "outputs": [
        {
          "output_type": "execute_result",
          "data": {
            "text/plain": [
              "212"
            ]
          },
          "metadata": {},
          "execution_count": 23
        }
      ]
    },
    {
      "cell_type": "markdown",
      "source": [
        "Find out the shape of the feature matrix in california housing dataset.Find out the shape of the feature matrix in california housing dataset."
      ],
      "metadata": {
        "id": "kM0WaanpCfpl"
      }
    },
    {
      "cell_type": "code",
      "source": [
        "from sklearn.datasets import fetch_california_housing\n",
        "data= fetch_california_housing()\n",
        "data.data.shape"
      ],
      "metadata": {
        "colab": {
          "base_uri": "https://localhost:8080/"
        },
        "id": "6wsIGGuEC65F",
        "outputId": "2d5bdebc-86ac-4e56-b2b5-c63fae06708d"
      },
      "execution_count": 27,
      "outputs": [
        {
          "output_type": "execute_result",
          "data": {
            "text/plain": [
              "(20640, 8)"
            ]
          },
          "metadata": {},
          "execution_count": 27
        }
      ]
    },
    {
      "cell_type": "markdown",
      "source": [
        "Find out the labels of the first five attributes in california housing dataset. Note, the labels are real-valued."
      ],
      "metadata": {
        "id": "pnYPY9p4DnrM"
      }
    },
    {
      "cell_type": "code",
      "source": [
        "label=data.target\n",
        "label[:5]"
      ],
      "metadata": {
        "colab": {
          "base_uri": "https://localhost:8080/"
        },
        "id": "6vCAGJTdFdtD",
        "outputId": "30fa1cea-4e33-4fe2-c4ea-88a3ff065381"
      },
      "execution_count": 29,
      "outputs": [
        {
          "output_type": "execute_result",
          "data": {
            "text/plain": [
              "array([4.526, 3.585, 3.521, 3.413, 3.422])"
            ]
          },
          "metadata": {},
          "execution_count": 29
        }
      ]
    },
    {
      "cell_type": "markdown",
      "source": [
        "Find out the name of the class label in california housing dataset(target matrix)?"
      ],
      "metadata": {
        "id": "_klnBxx_GXjk"
      }
    },
    {
      "cell_type": "code",
      "source": [
        "data.target_names"
      ],
      "metadata": {
        "colab": {
          "base_uri": "https://localhost:8080/"
        },
        "id": "p5t75xyBGYcV",
        "outputId": "fc3e9730-3ffc-4647-838c-5bef9cbd60c7"
      },
      "execution_count": 30,
      "outputs": [
        {
          "output_type": "execute_result",
          "data": {
            "text/plain": [
              "['MedHouseVal']"
            ]
          },
          "metadata": {},
          "execution_count": 30
        }
      ]
    }
  ]
}
